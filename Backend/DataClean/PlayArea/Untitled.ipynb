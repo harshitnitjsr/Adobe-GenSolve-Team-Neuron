{
 "cells": [
  {
   "cell_type": "code",
   "execution_count": 8,
   "id": "6935909a",
   "metadata": {},
   "outputs": [],
   "source": [
    "import os\n",
    "import shutil"
   ]
  },
  {
   "cell_type": "code",
   "execution_count": 9,
   "id": "dc4978a4",
   "metadata": {},
   "outputs": [
    {
     "name": "stdout",
     "output_type": "stream",
     "text": [
      "[1620, 25]\n"
     ]
    }
   ],
   "source": [
    "filenames = os.listdir(r'C:/Users/PRATAP/Downloads/BadmintonC.v4-nonull-badminton-court-dataset.yolov8/train/labels/')\n",
    "# print(filenames)\n",
    "c=0\n",
    "tot =0\n",
    "for filename in filenames:\n",
    "    with open(fr'C:/Users/PRATAP/Downloads/BadmintonC.v4-nonull-badminton-court-dataset.yolov8/train/labels/{filename}') as f:\n",
    "        tot+=1\n",
    "        lines = f.readlines()[0].split(' ')\n",
    "    if (len(lines) <= 5):\n",
    "        c+=1\n",
    "        os.unlink(fr'C:/Users/PRATAP/Downloads/BadmintonC.v4-nonull-badminton-court-dataset.yolov8/train/labels/{filename}')\n",
    "        os.unlink(fr'C:/Users/PRATAP/Downloads/BadmintonC.v4-nonull-badminton-court-dataset.yolov8/train/images/{filename[:len(filename)-3]}jpg')\n",
    "\n",
    "print([tot,c])"
   ]
  },
  {
   "cell_type": "code",
   "execution_count": 10,
   "id": "0cd0487f",
   "metadata": {},
   "outputs": [
    {
     "name": "stdout",
     "output_type": "stream",
     "text": [
      "[247, 4]\n"
     ]
    }
   ],
   "source": [
    "filenames = os.listdir(r'C:/Users/PRATAP/Downloads/BadmintonC.v4-nonull-badminton-court-dataset.yolov8/test/labels/')\n",
    "# print(filenames)\n",
    "c=0\n",
    "tot =0\n",
    "for filename in filenames:\n",
    "    with open(fr'C:/Users/PRATAP/Downloads/BadmintonC.v4-nonull-badminton-court-dataset.yolov8/test/labels/{filename}') as f:\n",
    "        tot+=1\n",
    "        lines = f.readlines()[0].split(' ')\n",
    "    if (len(lines) <= 5):\n",
    "        c+=1\n",
    "        os.unlink(fr'C:/Users/PRATAP/Downloads/BadmintonC.v4-nonull-badminton-court-dataset.yolov8/test/labels/{filename}')\n",
    "        os.unlink(fr'C:/Users/PRATAP/Downloads/BadmintonC.v4-nonull-badminton-court-dataset.yolov8/test/images/{filename[:len(filename)-3]}jpg')\n",
    "\n",
    "print([tot,c])"
   ]
  },
  {
   "cell_type": "code",
   "execution_count": 11,
   "id": "a96ea536",
   "metadata": {},
   "outputs": [
    {
     "name": "stdout",
     "output_type": "stream",
     "text": [
      "[477, 15]\n"
     ]
    }
   ],
   "source": [
    "filenames = os.listdir(r'C:/Users/PRATAP/Downloads/BadmintonC.v4-nonull-badminton-court-dataset.yolov8/valid/labels/')\n",
    "# print(filenames)\n",
    "c=0\n",
    "tot =0\n",
    "for filename in filenames:\n",
    "    with open(fr'C:/Users/PRATAP/Downloads/BadmintonC.v4-nonull-badminton-court-dataset.yolov8/valid/labels/{filename}') as f:\n",
    "        tot+=1\n",
    "        lines = f.readlines()[0].split(' ')\n",
    "    if (len(lines) <= 5):\n",
    "        c+=1\n",
    "        os.unlink(fr'C:/Users/PRATAP/Downloads/BadmintonC.v4-nonull-badminton-court-dataset.yolov8/valid/labels/{filename}')\n",
    "        os.unlink(fr'C:/Users/PRATAP/Downloads/BadmintonC.v4-nonull-badminton-court-dataset.yolov8/valid/images/{filename[:len(filename)-3]}jpg')\n",
    "\n",
    "print([tot,c])"
   ]
  },
  {
   "cell_type": "code",
   "execution_count": null,
   "id": "1396f811",
   "metadata": {},
   "outputs": [],
   "source": []
  }
 ],
 "metadata": {
  "kernelspec": {
   "display_name": "Python 3 (ipykernel)",
   "language": "python",
   "name": "python3"
  },
  "language_info": {
   "codemirror_mode": {
    "name": "ipython",
    "version": 3
   },
   "file_extension": ".py",
   "mimetype": "text/x-python",
   "name": "python",
   "nbconvert_exporter": "python",
   "pygments_lexer": "ipython3",
   "version": "3.11.2"
  }
 },
 "nbformat": 4,
 "nbformat_minor": 5
}
